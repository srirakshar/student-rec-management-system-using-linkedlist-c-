{
 "cells": [
  {
   "cell_type": "code",
   "execution_count": 7,
   "id": "e0e9ac8f",
   "metadata": {},
   "outputs": [
    {
     "name": "stdout",
     "output_type": "stream",
     "text": [
      "2\n",
      "29\n"
     ]
    }
   ],
   "source": [
    "num_lines=0\n",
    "wor=0\n",
    "path=\"C://Users//srira//Downloads//fname.txt\"\n",
    "with open(path, 'r') as f:\n",
    "        for line in f:\n",
    "            num_lines += 1\n",
    "            for word in line:\n",
    "                wor+=1\n",
    "            \n",
    "print(num_lines)\n",
    "print(wor)"
   ]
  },
  {
   "cell_type": "code",
   "execution_count": null,
   "id": "169a27a9",
   "metadata": {},
   "outputs": [],
   "source": []
  }
 ],
 "metadata": {
  "kernelspec": {
   "display_name": "Python 3 (ipykernel)",
   "language": "python",
   "name": "python3"
  },
  "language_info": {
   "codemirror_mode": {
    "name": "ipython",
    "version": 3
   },
   "file_extension": ".py",
   "mimetype": "text/x-python",
   "name": "python",
   "nbconvert_exporter": "python",
   "pygments_lexer": "ipython3",
   "version": "3.9.12"
  }
 },
 "nbformat": 4,
 "nbformat_minor": 5
}
